{
 "cells": [
  {
   "cell_type": "code",
   "execution_count": 1,
   "metadata": {},
   "outputs": [
    {
     "name": "stdout",
     "output_type": "stream",
     "text": [
      "Welcome to JupyROOT 6.12/06\n"
     ]
    }
   ],
   "source": [
    "import ROOT"
   ]
  },
  {
   "cell_type": "code",
   "execution_count": 2,
   "metadata": {},
   "outputs": [],
   "source": [
    "ROOT.gROOT.ProcessLine(\".L common/spacecharge_includes.h+O\");\n",
    "ROOT.gROOT.ProcessLine(\".L $GSL_LIB/libgsl.so\");\n",
    "ROOT.gROOT.ProcessLine(\".L $UBOONECODE_LIB/libuboone_SpaceCharge.so\");"
   ]
  },
  {
   "cell_type": "code",
   "execution_count": 3,
   "metadata": {},
   "outputs": [],
   "source": [
    "pset = ROOT.fhicl.ParameterSet();\n",
    "config = \"EnableCorrSCE:false EnableSimSpatialSCE:true EnableSimEfieldSCE:true RepresentationType:Parametric InputFilename:\\\"SpaceCharge/SCEoffsets_MicroBooNE_E273.root\\\"\";\n",
    "ROOT.fhicl.make_ParameterSet(config,pset);\n",
    "sce = ROOT.spacecharge.SpaceChargeMicroBooNE(pset);"
   ]
  },
  {
   "cell_type": "code",
   "execution_count": 4,
   "metadata": {},
   "outputs": [
    {
     "name": "stdout",
     "output_type": "stream",
     "text": [
      "Position offsets: (-1.359,-8.998,0.784)\n",
      "(200.00,100.00,100.00) --> (198.64,91.00,100.78)\n"
     ]
    }
   ],
   "source": [
    "pt = ROOT.geo.Point_t(200.0,100.0,100.0)\n",
    "diff_vec = sce.GetPosOffsets(pt);\n",
    "pt_offset = pt+diff_vec;\n",
    "print \"Position offsets: (%.3f,%.3f,%.3f)\" % (diff_vec.X(),diff_vec.Y(),diff_vec.Z())\n",
    "print \"(%.2f,%.2f,%.2f) --> (%.2f,%.2f,%.2f)\" % (pt.X(),pt.Y(),pt.Z(),pt_offset.X(),pt_offset.Y(),pt_offset.Z())"
   ]
  },
  {
   "cell_type": "code",
   "execution_count": 5,
   "metadata": {},
   "outputs": [],
   "source": [
    "def SpaceChargeMagnitudeZ(x,par):\n",
    "    mypt=ROOT.geo.Point_t(x[0],x[1],par[0])\n",
    "    return sce.GetPosOffsets(mypt).R();\n",
    "\n",
    "fSCE_mag_zproj = ROOT.TF2(\"fSCE_mag_zproj\",SpaceChargeMagnitudeZ,0.0,256.,-116.5,116.5,1);"
   ]
  },
  {
   "cell_type": "code",
   "execution_count": 6,
   "metadata": {},
   "outputs": [],
   "source": [
    "import time\n",
    "from IPython import display"
   ]
  },
  {
   "cell_type": "code",
   "execution_count": null,
   "metadata": {},
   "outputs": [
    {
     "data": {
      "image/png": "[encoded data removed]",
      "text/plain": [
       "<IPython.core.display.Image object>"
      ]
     },
     "metadata": {},
     "output_type": "display_data"
    }
   ],
   "source": [
    "c = ROOT.TCanvas(\"c\")\n",
    "while(True):\n",
    "    for i in [x * 100. for x in range(0, 11)]:\n",
    "        title = \"Space charge displacement magnitude at z slice %.1f cm\" % i\n",
    "        fSCE_mag_zproj.SetTitle(title)\n",
    "        fSCE_mag_zproj.SetParameter(0,i);\n",
    "        fSCE_mag_zproj.Draw(\"colz\")\n",
    "        #c.Draw()\n",
    "        c.SaveAs(\"tmp.png\")\n",
    "        display.clear_output(wait=True)\n",
    "        img = display.Image(filename=\"tmp.png\")\n",
    "        display.display(img)\n",
    "        time.sleep(1)"
   ]
  },
  {
   "cell_type": "code",
   "execution_count": null,
   "metadata": {},
   "outputs": [],
   "source": []
  }
 ],
 "metadata": {
  "kernelspec": {
   "display_name": "Python 2",
   "language": "python",
   "name": "python2"
  },
  "language_info": {
   "codemirror_mode": {
    "name": "ipython",
    "version": 2
   },
   "file_extension": ".py",
   "mimetype": "text/x-python",
   "name": "python",
   "nbconvert_exporter": "python",
   "pygments_lexer": "ipython2",
   "version": "2.7.14"
  }
 },
 "nbformat": 4,
 "nbformat_minor": 2
}
